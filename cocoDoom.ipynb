{
 "cells": [
  {
   "cell_type": "code",
   "execution_count": 1,
   "metadata": {},
   "outputs": [],
   "source": [
    "import shutil\n",
    "import os \n",
    "import json\n",
    "# from general_json2yolo import *\n",
    "\n",
    "# convert_coco_json(\"cocodoomData/run1/log.txt\")\n",
    "# convert_ath_json(\"cocodoomData\\map-train.json\")"
   ]
  },
  {
   "cell_type": "code",
   "execution_count": 2,
   "metadata": {},
   "outputs": [],
   "source": [
    "# with open(\"cocodoomData\\map-train.json\",\"r\") as f: \n",
    "\n",
    "f = json.load(open(\"cocodoomData\\map-train.json\",\"r\"))\n",
    "\n"
   ]
  },
  {
   "cell_type": "code",
   "execution_count": 9,
   "metadata": {},
   "outputs": [
    {
     "name": "stdout",
     "output_type": "stream",
     "text": [
      "dict_keys(['info', 'images', 'annotations', 'categories', 'licenses'])\n",
      "<class 'list'>\n",
      "{'id': 1010000002000004, 'image_id': 1010000002, 'category_id': 1, 'segmentation': [[131, 117, 136, 119, 137, 116, 140, 116, 141, 112, 143, 112, 144, 116, 147, 117, 146, 130, 144, 131, 145, 136, 142, 136, 142, 134, 139, 135, 138, 122, 136, 122, 133, 119, 131, 119, 131, 117]], 'area': 180, 'bbox': [130, 112, 17, 25], 'iscrowd': 0}\n"
     ]
    }
   ],
   "source": [
    "print(f.keys())\n",
    "print(type(f['images']))\n",
    "print(f[\"annotations\"][0])\n",
    "\n",
    "# for elem in f.values():\n",
    "#     print(elem)\n",
    "#     print(\"\")\n",
    "#     break"
   ]
  }
 ],
 "metadata": {
  "kernelspec": {
   "display_name": "Python 3",
   "language": "python",
   "name": "python3"
  },
  "language_info": {
   "codemirror_mode": {
    "name": "ipython",
    "version": 3
   },
   "file_extension": ".py",
   "mimetype": "text/x-python",
   "name": "python",
   "nbconvert_exporter": "python",
   "pygments_lexer": "ipython3",
   "version": "3.10.4"
  },
  "orig_nbformat": 4
 },
 "nbformat": 4,
 "nbformat_minor": 2
}
