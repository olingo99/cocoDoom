{
 "cells": [
  {
   "cell_type": "code",
   "execution_count": 17,
   "metadata": {},
   "outputs": [
    {
     "name": "stdout",
     "output_type": "stream",
     "text": [
      "{'id': 1030005572001462, 'image_id': 1030005572, 'category_id': 58, 'segmentation': [[130, 109, 133, 109, 133, 104, 135, 104, 135, 99, 138, 99, 138, 97, 140, 97, 140, 94, 143, 94, 143, 92, 148, 92, 148, 89, 152, 89, 152, 87, 170, 87, 170, 89, 174, 89, 174, 92, 179, 92, 179, 94, 182, 94, 182, 97, 184, 97, 184, 99, 187, 99, 187, 104, 189, 104, 189, 109, 191, 109, 191, 126, 189, 126, 189, 131, 187, 131, 187, 136, 184, 136, 184, 138, 182, 138, 182, 140, 179, 140, 179, 143, 174, 143, 174, 145, 170, 145, 170, 148, 152, 148, 152, 145, 148, 145, 148, 143, 143, 143, 143, 140, 140, 140, 140, 138, 138, 138, 138, 136, 135, 136, 135, 131, 133, 131, 133, 126, 130, 126, 130, 109]], 'area': 2911, 'bbox': [130, 86, 62, 62], 'iscrowd': 0}\n"
     ]
    }
   ],
   "source": [
    "import json\n",
    "f = json.load(open(\"cocodoomData/run-train.json\",\"r\"))\n",
    "set = set()\n",
    "print(f[\"annotations\"][4982])\n",
    "for elem in f[\"annotations\"]:\n",
    "    set.add(elem[\"category_id\"])\n"
   ]
  },
  {
   "cell_type": "code",
   "execution_count": 19,
   "metadata": {},
   "outputs": [
    {
     "name": "stdout",
     "output_type": "stream",
     "text": [
      "{'id': 1030004982001448, 'image_id': 1030004982, 'category_id': 134, 'segmentation': [[90, 142, 104, 141, 106, 143, 96, 144, 96, 143, 90, 143, 90, 142]], 'area': 31, 'bbox': [90, 140, 17, 4], 'iscrowd': 0}\n",
      "{1, 2, 3, 4, 5, 6, 7, 8, 9, 10, 11, 12, 14, 15, 16, 17, 18, 19, 20, 21, 22, 23, 30, 31, 32, 33, 34, 35, 36, 37, 38, 39, 42, 43, 44, 45, 46, 47, 53, 54, 55, 56, 57, 58, 59, 60, 62, 63, 64, 65, 66, 67, 68, 69, 70, 71, 72, 73, 74, 75, 76, 77, 78, 79, 80, 82, 83, 84, 88, 89, 90, 91, 92, 93, 94, 95, 96, 97, 99, 100, 106, 108, 109, 110, 117, 118, 119, 121, 123, 124, 125, 126, 127, 134}\n",
      "94\n"
     ]
    }
   ],
   "source": [
    "print(f[\"annotations\"][4129])\n",
    "print(set)\n",
    "print(len(set))"
   ]
  }
 ],
 "metadata": {
  "kernelspec": {
   "display_name": "Python 3",
   "language": "python",
   "name": "python3"
  },
  "language_info": {
   "codemirror_mode": {
    "name": "ipython",
    "version": 3
   },
   "file_extension": ".py",
   "mimetype": "text/x-python",
   "name": "python",
   "nbconvert_exporter": "python",
   "pygments_lexer": "ipython3",
   "version": "3.10.0"
  },
  "orig_nbformat": 4
 },
 "nbformat": 4,
 "nbformat_minor": 2
}
